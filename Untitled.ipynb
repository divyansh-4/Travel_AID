{
 "cells": [
  {
   "cell_type": "code",
   "execution_count": 15,
   "id": "c296406f-6539-4a76-9c82-de7b08bd549a",
   "metadata": {},
   "outputs": [
    {
     "name": "stdout",
     "output_type": "stream",
     "text": [
      "<class 'pandas.core.frame.DataFrame'>\n",
      "RangeIndex: 300261 entries, 0 to 300260\n",
      "Data columns (total 13 columns):\n",
      " #   Column       Non-Null Count   Dtype  \n",
      "---  ------       --------------   -----  \n",
      " 0   flight date  300261 non-null  object \n",
      " 1   airline      300261 non-null  object \n",
      " 2   flight_num   300261 non-null  object \n",
      " 3   class        300261 non-null  object \n",
      " 4   from         300261 non-null  object \n",
      " 5   dep_time     300261 non-null  object \n",
      " 6   to           300261 non-null  object \n",
      " 7   arr_time     300261 non-null  object \n",
      " 8   duration     300261 non-null  object \n",
      " 9   price        300261 non-null  object \n",
      " 10  stops        300261 non-null  object \n",
      " 11  Unnamed: 11  0 non-null       float64\n",
      " 12  Unnamed: 12  0 non-null       float64\n",
      "dtypes: float64(2), object(11)\n",
      "memory usage: 29.8+ MB\n"
     ]
    }
   ],
   "source": [
    "import pandas as pd\n",
    "import numpy as np\n",
    "\n",
    "flight_data=\"Data/flights/flight_data.csv\"\n",
    "\n",
    "data = pd.read_csv(flight_data)\n",
    "data.info()"
   ]
  },
  {
   "cell_type": "code",
   "execution_count": 16,
   "id": "0123a7cd-49f5-41d8-835e-05d63595227f",
   "metadata": {},
   "outputs": [
    {
     "name": "stdout",
     "output_type": "stream",
     "text": [
      "Unique values in 'from': ['Bangalore', 'Chennai', 'Delhi', 'Hyderabad', 'Kolkata', 'Mumbai']\n",
      "Unique values in 'to': ['Bangalore', 'Chennai', 'Delhi', 'Hyderabad', 'Kolkata', 'Mumbai']\n"
     ]
    }
   ],
   "source": [
    "unique_from = sorted(data['from'].unique())\n",
    "unique_to = sorted(data['to'].unique())\n",
    "\n",
    "print(\"Unique values in 'from':\", unique_from)\n",
    "print(\"Unique values in 'to':\", unique_to)"
   ]
  },
  {
   "cell_type": "code",
   "execution_count": 35,
   "id": "39f26254-aaae-4832-b441-fd5e1b482924",
   "metadata": {},
   "outputs": [
    {
     "name": "stdout",
     "output_type": "stream",
     "text": [
      "           from       to flight date  flight_count\n",
      "0     Bangalore  Chennai  01-07-2023             8\n",
      "1     Bangalore  Chennai  01-08-2023             8\n",
      "2     Bangalore  Chennai  02-07-2023             8\n",
      "3     Bangalore  Chennai  02-08-2023             8\n",
      "4     Bangalore  Chennai  03-07-2023             8\n",
      "...         ...      ...         ...           ...\n",
      "1465     Mumbai  Kolkata  29-06-2023             8\n",
      "1466     Mumbai  Kolkata  29-07-2023             8\n",
      "1467     Mumbai  Kolkata  30-06-2023             8\n",
      "1468     Mumbai  Kolkata  30-07-2023             8\n",
      "1469     Mumbai  Kolkata  31-07-2023             8\n",
      "\n",
      "[1470 rows x 4 columns]\n"
     ]
    }
   ],
   "source": [
    "# flight_counts = data.groupby(['from', 'to']).size().reset_index(name='flight_count')\n",
    "flight_counts = data.groupby(['from', 'to','flight date']).size().reset_index(name='flight_count')\n",
    "print(flight_counts)"
   ]
  },
  {
   "cell_type": "code",
   "execution_count": 38,
   "id": "3ea0c8b0-54ce-4bf3-a75f-e10a1c10b039",
   "metadata": {},
   "outputs": [
    {
     "name": "stdout",
     "output_type": "stream",
     "text": [
      "Filtered flights saved to filtered_flights_per_date.csv\n"
     ]
    }
   ],
   "source": [
    "import pandas as pd\n",
    "\n",
    "# Load the data into a DataFrame\n",
    "# file_path = 'path_to_your_csv_file.csv'  # Update this to your file path\n",
    "# data = pd.read_csv(file_path, delimiter=\"\\t\")  # Assuming tab-separated values\n",
    "\n",
    "# Step 1: Count the number of flights for each date and city pair\n",
    "flight_counts = data.groupby(['flight date', 'from', 'to']).size().reset_index(name='flight_count')\n",
    "\n",
    "# Step 2: Sample up to 8 random flights for each group (date and city pair)\n",
    "def sample_flights(group):\n",
    "    # If more than 8 flights, sample 8; otherwise, keep all\n",
    "    return group.sample(n=min(len(group), 8), random_state=42)  # Random state for reproducibility\n",
    "\n",
    "# Apply sampling group-wise\n",
    "filtered_flights = data.groupby(['flight date', 'from', 'to'], group_keys=False).apply(sample_flights)\n",
    "\n",
    "# Save the filtered flights to a new CSV file\n",
    "output_path = 'filtered_flights_per_date.csv'\n",
    "filtered_flights.to_csv(output_path, index=False)\n",
    "\n",
    "print(f\"Filtered flights saved to {output_path}\")\n"
   ]
  },
  {
   "cell_type": "code",
   "execution_count": 39,
   "id": "6a7e3898-c921-4ed4-999c-71063703a074",
   "metadata": {},
   "outputs": [
    {
     "name": "stdout",
     "output_type": "stream",
     "text": [
      "<class 'pandas.core.frame.DataFrame'>\n",
      "RangeIndex: 11747 entries, 0 to 11746\n",
      "Data columns (total 13 columns):\n",
      " #   Column       Non-Null Count  Dtype  \n",
      "---  ------       --------------  -----  \n",
      " 0   flight date  11747 non-null  object \n",
      " 1   airline      11747 non-null  object \n",
      " 2   flight_num   11747 non-null  object \n",
      " 3   class        11747 non-null  object \n",
      " 4   from         11747 non-null  object \n",
      " 5   dep_time     11747 non-null  object \n",
      " 6   to           11747 non-null  object \n",
      " 7   arr_time     11747 non-null  object \n",
      " 8   duration     11747 non-null  object \n",
      " 9   price        11747 non-null  object \n",
      " 10  stops        11747 non-null  object \n",
      " 11  Unnamed: 11  0 non-null      float64\n",
      " 12  Unnamed: 12  0 non-null      float64\n",
      "dtypes: float64(2), object(11)\n",
      "memory usage: 1.2+ MB\n"
     ]
    }
   ],
   "source": [
    "import pandas as pd\n",
    "import numpy as np\n",
    "\n",
    "filtered_flight_data=\"filtered_flights_per_date.csv\"\n",
    "\n",
    "filtered_data = pd.read_csv(filtered_flight_data)\n",
    "filtered_data.info()"
   ]
  },
  {
   "cell_type": "code",
   "execution_count": 44,
   "id": "07ad6e40-4420-468f-aeca-f350a429e3c4",
   "metadata": {},
   "outputs": [],
   "source": [
    "flight_counts = data.groupby(['from', 'to','flight date']).size().reset_index(name='flight_count')"
   ]
  },
  {
   "cell_type": "code",
   "execution_count": 45,
   "id": "d58fa4e4-3120-40ee-8296-82b9bf9251fa",
   "metadata": {},
   "outputs": [
    {
     "name": "stdout",
     "output_type": "stream",
     "text": [
      "The city pair with the minimum days is:\n",
      "         from         to  days\n",
      "0   Bangalore    Chennai    49\n",
      "1   Bangalore      Delhi    49\n",
      "2   Bangalore  Hyderabad    49\n",
      "3   Bangalore    Kolkata    49\n",
      "4   Bangalore     Mumbai    49\n",
      "5     Chennai  Bangalore    49\n",
      "6     Chennai      Delhi    49\n",
      "7     Chennai  Hyderabad    49\n",
      "8     Chennai    Kolkata    49\n",
      "9     Chennai     Mumbai    49\n",
      "10      Delhi  Bangalore    49\n",
      "11      Delhi    Chennai    49\n",
      "12      Delhi  Hyderabad    49\n",
      "13      Delhi    Kolkata    49\n",
      "14      Delhi     Mumbai    49\n",
      "15  Hyderabad  Bangalore    49\n",
      "16  Hyderabad    Chennai    49\n",
      "17  Hyderabad      Delhi    49\n",
      "18  Hyderabad    Kolkata    49\n",
      "19  Hyderabad     Mumbai    49\n",
      "20    Kolkata  Bangalore    49\n",
      "21    Kolkata    Chennai    49\n",
      "22    Kolkata      Delhi    49\n",
      "23    Kolkata  Hyderabad    49\n",
      "24    Kolkata     Mumbai    49\n",
      "25     Mumbai  Bangalore    49\n",
      "26     Mumbai    Chennai    49\n",
      "27     Mumbai      Delhi    49\n",
      "28     Mumbai  Hyderabad    49\n",
      "29     Mumbai    Kolkata    49\n",
      "The minimum number of days is: 49\n",
      "Complete data with new flights saved to complete_flight_data_with_new_cities.csv\n"
     ]
    }
   ],
   "source": [
    "import pandas as pd\n",
    "import itertools\n",
    "import random\n",
    "\n",
    "# Load the data into a DataFrame\n",
    "file_path = 'filtered_flights_per_date.csv'  # Update this to your file path\n",
    "data = pd.read_csv(file_path)  # Assuming tab-separated values\n",
    "\n",
    "# Step 1: Find the pair of cities with the minimum number of days when flights exist\n",
    "city_pair_days = data.groupby(['from', 'to'])['flight date'].nunique().reset_index(name='days')\n",
    "min_days = city_pair_days['days'].min()\n",
    "min_pair = city_pair_days[city_pair_days['days'] == min_days]\n",
    "\n",
    "print(f\"The city pair with the minimum days is:\\n{min_pair}\")\n",
    "print(f\"The minimum number of days is: {min_days}\")\n",
    "\n",
    "# Step 2: Add 6 new cities\n",
    "new_cities = ['Ahmedabad', 'Jaipur', 'Pune', 'Bhubaneswar', 'Goa', 'Chandigarh']\n",
    "\n",
    "# Combine the old cities and new cities\n",
    "unique_from = ['Bangalore', 'Chennai', 'Delhi', 'Hyderabad', 'Kolkata', 'Mumbai'] + new_cities\n",
    "unique_to = ['Bangalore', 'Chennai', 'Delhi', 'Hyderabad', 'Kolkata', 'Mumbai'] + new_cities\n",
    "\n",
    "# Step 3: Generate new flight data for all the pairs (old + new cities)\n",
    "all_city_pairs = list(itertools.product(unique_from, unique_to))\n",
    "\n",
    "# Exclude existing city pairs\n",
    "existing_pairs = data.groupby(['from', 'to']).size().reset_index()[['from', 'to']]\n",
    "existing_pairs_set = set(zip(existing_pairs['from'], existing_pairs['to']))\n",
    "missing_pairs = [pair for pair in all_city_pairs if pair not in existing_pairs_set]\n",
    "\n",
    "# Generate new flights for missing pairs\n",
    "new_flights = []\n",
    "dates = pd.date_range(start=\"2023-06-01\", periods=min_days, freq='D').strftime('%d-%m-%Y')\n",
    "\n",
    "for from_city, to_city in missing_pairs:\n",
    "    for date in dates:\n",
    "        for _ in range(8):  # Ensure at least 8 flights per date\n",
    "            new_flights.append({\n",
    "                'flight date': date,\n",
    "                'airline': random.choice(['SpiceJet', 'AirAsia', 'Vistara', 'GO FIRST']),\n",
    "                'flight_num': f\"{random.choice(['SG', 'I5', 'UK', 'G8'])}-{random.randint(1000, 9999)}\",\n",
    "                'class': 'economy',\n",
    "                'from': from_city,\n",
    "                'dep_time': f\"{random.randint(0, 23):02d}:{random.randint(0, 59):02d}\",\n",
    "                'to': to_city,\n",
    "                'arr_time': f\"{random.randint(0, 23):02d}:{random.randint(0, 59):02d}\",\n",
    "                'duration': f\"{random.randint(1, 3):02d}h {random.randint(0, 59):02d}m\",\n",
    "                'price': random.randint(5000, 12000),\n",
    "                'stops': random.choice(['non-stop', '1-stop'])\n",
    "            })\n",
    "\n",
    "# Step 4: Combine old and new data\n",
    "new_flights_df = pd.DataFrame(new_flights)\n",
    "combined_data = pd.concat([data, new_flights_df], ignore_index=True)\n",
    "\n",
    "# Save the combined data to a new CSV\n",
    "output_path = 'complete_flight_data_with_new_cities.csv'\n",
    "combined_data.to_csv(output_path, index=False)\n",
    "\n",
    "print(f\"Complete data with new flights saved to {output_path}\")\n"
   ]
  },
  {
   "cell_type": "code",
   "execution_count": 46,
   "id": "f29a0484-a877-41fe-bf5e-e1b1f0c4d59e",
   "metadata": {},
   "outputs": [
    {
     "name": "stdout",
     "output_type": "stream",
     "text": [
      "Unique values in 'from': ['Ahmedabad', 'Bangalore', 'Bhubaneswar', 'Chandigarh', 'Chennai', 'Delhi', 'Goa', 'Hyderabad', 'Jaipur', 'Kolkata', 'Mumbai', 'Pune']\n",
      "Unique values in 'to': ['Ahmedabad', 'Bangalore', 'Bhubaneswar', 'Chandigarh', 'Chennai', 'Delhi', 'Goa', 'Hyderabad', 'Jaipur', 'Kolkata', 'Mumbai', 'Pune']\n"
     ]
    }
   ],
   "source": [
    "unique_from = sorted(combined_data['from'].unique())\n",
    "unique_to = sorted(combined_data['to'].unique())\n",
    "\n",
    "print(\"Unique values in 'from':\", unique_from)\n",
    "print(\"Unique values in 'to':\", unique_to)"
   ]
  },
  {
   "cell_type": "code",
   "execution_count": null,
   "id": "1cc85c40-3917-4900-9a5b-581c312004e7",
   "metadata": {},
   "outputs": [],
   "source": []
  }
 ],
 "metadata": {
  "kernelspec": {
   "display_name": "Python 3 (ipykernel)",
   "language": "python",
   "name": "python3"
  },
  "language_info": {
   "codemirror_mode": {
    "name": "ipython",
    "version": 3
   },
   "file_extension": ".py",
   "mimetype": "text/x-python",
   "name": "python",
   "nbconvert_exporter": "python",
   "pygments_lexer": "ipython3",
   "version": "3.10.12"
  }
 },
 "nbformat": 4,
 "nbformat_minor": 5
}
